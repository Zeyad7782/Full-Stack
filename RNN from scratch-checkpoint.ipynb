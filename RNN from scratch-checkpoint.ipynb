{
 "cells": [
  {
   "cell_type": "code",
   "execution_count": 1,
   "id": "f9ca3ef9",
   "metadata": {},
   "outputs": [
    {
     "name": "stdout",
     "output_type": "stream",
     "text": [
      "Epoch 100 | Loss: 0.0930 | Prediction: club\n",
      "Epoch 200 | Loss: 0.0428 | Prediction: club\n",
      "Epoch 300 | Loss: 0.0276 | Prediction: club\n",
      "Epoch 400 | Loss: 0.0203 | Prediction: club\n",
      "Epoch 500 | Loss: 0.0160 | Prediction: club\n",
      "Epoch 600 | Loss: 0.0132 | Prediction: club\n",
      "Epoch 700 | Loss: 0.0113 | Prediction: club\n",
      "Epoch 800 | Loss: 0.0098 | Prediction: club\n",
      "Epoch 900 | Loss: 0.0087 | Prediction: club\n",
      "Epoch 1000 | Loss: 0.0078 | Prediction: club\n"
     ]
    }
   ],
   "source": [
    "import numpy as np\n",
    "words = [\"Liverpool\", \"is\", \"wonderful\", \"club\"]\n",
    "vocab = list(set(words))\n",
    "word_to_idx = {w: i for i, w in enumerate(vocab)}\n",
    "idx_to_word = {i: w for w, i in word_to_idx.items()}\n",
    "vocab_size = len(vocab)\n",
    "def one_hot(idx, size):\n",
    "    vec = np.zeros((size,))\n",
    "    vec[idx] = 1\n",
    "    return vec\n",
    "X = [one_hot(word_to_idx[w], vocab_size) for w in [\"Liverpool\", \"is\", \"wonderful\"]]\n",
    "Y = word_to_idx[\"club\"]\n",
    "input_size = vocab_size\n",
    "hidden_size = 8\n",
    "output_size = vocab_size\n",
    "Wxh = np.random.randn(hidden_size, input_size) * 0.01  \n",
    "Whh = np.random.randn(hidden_size, hidden_size) * 0.01  \n",
    "Why = np.random.randn(output_size, hidden_size) * 0.01  \n",
    "bh = np.zeros((hidden_size,))\n",
    "by = np.zeros((output_size,))\n",
    "def softmax(x):\n",
    "    e_x = np.exp(x - np.max(x))\n",
    "    return e_x / e_x.sum()\n",
    "\n",
    "learning_rate = 0.1\n",
    "for epoch in range(1000):\n",
    "    h_prev = np.zeros((hidden_size,))\n",
    "    hs = []\n",
    "    \n",
    "    for x_t in X:\n",
    "        h_prev = np.tanh(np.dot(Wxh, x_t) + np.dot(Whh, h_prev) + bh)\n",
    "        hs.append(h_prev)\n",
    "    y_pred = np.dot(Why, h_prev) + by\n",
    "    probs = softmax(y_pred)\n",
    "    loss = -np.log(probs[Y])\n",
    "    dWhy = probs.copy()\n",
    "    dWhy[Y] -= 1 \n",
    "    dWhy = np.outer(dWhy, hs[-1])\n",
    "    Why -= learning_rate * dWhy\n",
    "    by -= learning_rate * (probs.copy() - one_hot(Y, vocab_size))\n",
    "    if (epoch + 1) % 100 == 0:\n",
    "        pred_idx = np.argmax(probs)\n",
    "        print(f\"Epoch {epoch+1} | Loss: {loss:.4f} | Prediction: {idx_to_word[pred_idx]}\")"
   ]
  },
  {
   "cell_type": "code",
   "execution_count": null,
   "id": "60459e12",
   "metadata": {},
   "outputs": [],
   "source": []
  }
 ],
 "metadata": {
  "kernelspec": {
   "display_name": "Python 3 (ipykernel)",
   "language": "python",
   "name": "python3"
  },
  "language_info": {
   "codemirror_mode": {
    "name": "ipython",
    "version": 3
   },
   "file_extension": ".py",
   "mimetype": "text/x-python",
   "name": "python",
   "nbconvert_exporter": "python",
   "pygments_lexer": "ipython3",
   "version": "3.9.13"
  }
 },
 "nbformat": 4,
 "nbformat_minor": 5
}
